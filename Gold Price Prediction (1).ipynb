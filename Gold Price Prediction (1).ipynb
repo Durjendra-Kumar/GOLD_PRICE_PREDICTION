{
 "cells": [
  {
   "cell_type": "code",
   "execution_count": 1,
   "id": "82d7f657",
   "metadata": {},
   "outputs": [],
   "source": [
    "import numpy as np\n",
    "import pandas as pd\n",
    "import seaborn as sns\n",
    "import matplotlib.pyplot as plt\n",
    "from sklearn.model_selection import train_test_split\n",
    "from sklearn.ensemble import RandomForestRegressor\n",
    "from sklearn import metrics"
   ]
  },
  {
   "cell_type": "code",
   "execution_count": 2,
   "id": "5e6c205a",
   "metadata": {},
   "outputs": [
    {
     "data": {
      "text/html": [
       "<div>\n",
       "<style scoped>\n",
       "    .dataframe tbody tr th:only-of-type {\n",
       "        vertical-align: middle;\n",
       "    }\n",
       "\n",
       "    .dataframe tbody tr th {\n",
       "        vertical-align: top;\n",
       "    }\n",
       "\n",
       "    .dataframe thead th {\n",
       "        text-align: right;\n",
       "    }\n",
       "</style>\n",
       "<table border=\"1\" class=\"dataframe\">\n",
       "  <thead>\n",
       "    <tr style=\"text-align: right;\">\n",
       "      <th></th>\n",
       "      <th>Date</th>\n",
       "      <th>SPX</th>\n",
       "      <th>GLD</th>\n",
       "      <th>USO</th>\n",
       "      <th>SLV</th>\n",
       "      <th>EUR/USD</th>\n",
       "    </tr>\n",
       "  </thead>\n",
       "  <tbody>\n",
       "    <tr>\n",
       "      <th>0</th>\n",
       "      <td>1/2/2008</td>\n",
       "      <td>1447.160034</td>\n",
       "      <td>84.860001</td>\n",
       "      <td>78.470001</td>\n",
       "      <td>15.180</td>\n",
       "      <td>1.471692</td>\n",
       "    </tr>\n",
       "    <tr>\n",
       "      <th>1</th>\n",
       "      <td>1/3/2008</td>\n",
       "      <td>1447.160034</td>\n",
       "      <td>85.570000</td>\n",
       "      <td>78.370003</td>\n",
       "      <td>15.285</td>\n",
       "      <td>1.474491</td>\n",
       "    </tr>\n",
       "    <tr>\n",
       "      <th>2</th>\n",
       "      <td>1/4/2008</td>\n",
       "      <td>1411.630005</td>\n",
       "      <td>85.129997</td>\n",
       "      <td>77.309998</td>\n",
       "      <td>15.167</td>\n",
       "      <td>1.475492</td>\n",
       "    </tr>\n",
       "    <tr>\n",
       "      <th>3</th>\n",
       "      <td>1/7/2008</td>\n",
       "      <td>1416.180054</td>\n",
       "      <td>84.769997</td>\n",
       "      <td>75.500000</td>\n",
       "      <td>15.053</td>\n",
       "      <td>1.468299</td>\n",
       "    </tr>\n",
       "    <tr>\n",
       "      <th>4</th>\n",
       "      <td>1/8/2008</td>\n",
       "      <td>1390.189941</td>\n",
       "      <td>86.779999</td>\n",
       "      <td>76.059998</td>\n",
       "      <td>15.590</td>\n",
       "      <td>1.557099</td>\n",
       "    </tr>\n",
       "  </tbody>\n",
       "</table>\n",
       "</div>"
      ],
      "text/plain": [
       "       Date          SPX        GLD        USO     SLV   EUR/USD\n",
       "0  1/2/2008  1447.160034  84.860001  78.470001  15.180  1.471692\n",
       "1  1/3/2008  1447.160034  85.570000  78.370003  15.285  1.474491\n",
       "2  1/4/2008  1411.630005  85.129997  77.309998  15.167  1.475492\n",
       "3  1/7/2008  1416.180054  84.769997  75.500000  15.053  1.468299\n",
       "4  1/8/2008  1390.189941  86.779999  76.059998  15.590  1.557099"
      ]
     },
     "execution_count": 2,
     "metadata": {},
     "output_type": "execute_result"
    }
   ],
   "source": [
    "gold_data = pd.read_csv('C:/Users/91761/Desktop/csv1/gld_price_data.csv')\n",
    "gold_data.head()"
   ]
  },
  {
   "cell_type": "code",
   "execution_count": 3,
   "id": "987d14c4",
   "metadata": {},
   "outputs": [
    {
     "data": {
      "text/plain": [
       "(2290, 6)"
      ]
     },
     "execution_count": 3,
     "metadata": {},
     "output_type": "execute_result"
    }
   ],
   "source": [
    "gold_data.shape"
   ]
  },
  {
   "cell_type": "code",
   "execution_count": 4,
   "id": "4bc0b5a8",
   "metadata": {},
   "outputs": [
    {
     "data": {
      "text/html": [
       "<div>\n",
       "<style scoped>\n",
       "    .dataframe tbody tr th:only-of-type {\n",
       "        vertical-align: middle;\n",
       "    }\n",
       "\n",
       "    .dataframe tbody tr th {\n",
       "        vertical-align: top;\n",
       "    }\n",
       "\n",
       "    .dataframe thead th {\n",
       "        text-align: right;\n",
       "    }\n",
       "</style>\n",
       "<table border=\"1\" class=\"dataframe\">\n",
       "  <thead>\n",
       "    <tr style=\"text-align: right;\">\n",
       "      <th></th>\n",
       "      <th>Date</th>\n",
       "      <th>SPX</th>\n",
       "      <th>GLD</th>\n",
       "      <th>USO</th>\n",
       "      <th>SLV</th>\n",
       "      <th>EUR/USD</th>\n",
       "    </tr>\n",
       "  </thead>\n",
       "  <tbody>\n",
       "    <tr>\n",
       "      <th>2285</th>\n",
       "      <td>5/8/2018</td>\n",
       "      <td>2671.919922</td>\n",
       "      <td>124.589996</td>\n",
       "      <td>14.0600</td>\n",
       "      <td>15.5100</td>\n",
       "      <td>1.186789</td>\n",
       "    </tr>\n",
       "    <tr>\n",
       "      <th>2286</th>\n",
       "      <td>5/9/2018</td>\n",
       "      <td>2697.790039</td>\n",
       "      <td>124.330002</td>\n",
       "      <td>14.3700</td>\n",
       "      <td>15.5300</td>\n",
       "      <td>1.184722</td>\n",
       "    </tr>\n",
       "    <tr>\n",
       "      <th>2287</th>\n",
       "      <td>5/10/2018</td>\n",
       "      <td>2723.070068</td>\n",
       "      <td>125.180000</td>\n",
       "      <td>14.4100</td>\n",
       "      <td>15.7400</td>\n",
       "      <td>1.191753</td>\n",
       "    </tr>\n",
       "    <tr>\n",
       "      <th>2288</th>\n",
       "      <td>5/14/2018</td>\n",
       "      <td>2730.129883</td>\n",
       "      <td>124.489998</td>\n",
       "      <td>14.3800</td>\n",
       "      <td>15.5600</td>\n",
       "      <td>1.193118</td>\n",
       "    </tr>\n",
       "    <tr>\n",
       "      <th>2289</th>\n",
       "      <td>5/16/2018</td>\n",
       "      <td>2725.780029</td>\n",
       "      <td>122.543800</td>\n",
       "      <td>14.4058</td>\n",
       "      <td>15.4542</td>\n",
       "      <td>1.182033</td>\n",
       "    </tr>\n",
       "  </tbody>\n",
       "</table>\n",
       "</div>"
      ],
      "text/plain": [
       "           Date          SPX         GLD      USO      SLV   EUR/USD\n",
       "2285   5/8/2018  2671.919922  124.589996  14.0600  15.5100  1.186789\n",
       "2286   5/9/2018  2697.790039  124.330002  14.3700  15.5300  1.184722\n",
       "2287  5/10/2018  2723.070068  125.180000  14.4100  15.7400  1.191753\n",
       "2288  5/14/2018  2730.129883  124.489998  14.3800  15.5600  1.193118\n",
       "2289  5/16/2018  2725.780029  122.543800  14.4058  15.4542  1.182033"
      ]
     },
     "execution_count": 4,
     "metadata": {},
     "output_type": "execute_result"
    }
   ],
   "source": [
    "gold_data.tail()"
   ]
  },
  {
   "cell_type": "code",
   "execution_count": 5,
   "id": "b6500bf4",
   "metadata": {},
   "outputs": [
    {
     "data": {
      "text/plain": [
       "Date       0\n",
       "SPX        0\n",
       "GLD        0\n",
       "USO        0\n",
       "SLV        0\n",
       "EUR/USD    0\n",
       "dtype: int64"
      ]
     },
     "execution_count": 5,
     "metadata": {},
     "output_type": "execute_result"
    }
   ],
   "source": [
    "#checking the number of missing values\n",
    "gold_data.isnull().sum()"
   ]
  },
  {
   "cell_type": "code",
   "execution_count": 6,
   "id": "144a9e92",
   "metadata": {},
   "outputs": [
    {
     "data": {
      "text/html": [
       "<div>\n",
       "<style scoped>\n",
       "    .dataframe tbody tr th:only-of-type {\n",
       "        vertical-align: middle;\n",
       "    }\n",
       "\n",
       "    .dataframe tbody tr th {\n",
       "        vertical-align: top;\n",
       "    }\n",
       "\n",
       "    .dataframe thead th {\n",
       "        text-align: right;\n",
       "    }\n",
       "</style>\n",
       "<table border=\"1\" class=\"dataframe\">\n",
       "  <thead>\n",
       "    <tr style=\"text-align: right;\">\n",
       "      <th></th>\n",
       "      <th>SPX</th>\n",
       "      <th>GLD</th>\n",
       "      <th>USO</th>\n",
       "      <th>SLV</th>\n",
       "      <th>EUR/USD</th>\n",
       "    </tr>\n",
       "  </thead>\n",
       "  <tbody>\n",
       "    <tr>\n",
       "      <th>count</th>\n",
       "      <td>2290.000000</td>\n",
       "      <td>2290.000000</td>\n",
       "      <td>2290.000000</td>\n",
       "      <td>2290.000000</td>\n",
       "      <td>2290.000000</td>\n",
       "    </tr>\n",
       "    <tr>\n",
       "      <th>mean</th>\n",
       "      <td>1654.315776</td>\n",
       "      <td>122.732875</td>\n",
       "      <td>31.842221</td>\n",
       "      <td>20.084997</td>\n",
       "      <td>1.283653</td>\n",
       "    </tr>\n",
       "    <tr>\n",
       "      <th>std</th>\n",
       "      <td>519.111540</td>\n",
       "      <td>23.283346</td>\n",
       "      <td>19.523517</td>\n",
       "      <td>7.092566</td>\n",
       "      <td>0.131547</td>\n",
       "    </tr>\n",
       "    <tr>\n",
       "      <th>min</th>\n",
       "      <td>676.530029</td>\n",
       "      <td>70.000000</td>\n",
       "      <td>7.960000</td>\n",
       "      <td>8.850000</td>\n",
       "      <td>1.039047</td>\n",
       "    </tr>\n",
       "    <tr>\n",
       "      <th>25%</th>\n",
       "      <td>1239.874969</td>\n",
       "      <td>109.725000</td>\n",
       "      <td>14.380000</td>\n",
       "      <td>15.570000</td>\n",
       "      <td>1.171313</td>\n",
       "    </tr>\n",
       "    <tr>\n",
       "      <th>50%</th>\n",
       "      <td>1551.434998</td>\n",
       "      <td>120.580002</td>\n",
       "      <td>33.869999</td>\n",
       "      <td>17.268500</td>\n",
       "      <td>1.303297</td>\n",
       "    </tr>\n",
       "    <tr>\n",
       "      <th>75%</th>\n",
       "      <td>2073.010070</td>\n",
       "      <td>132.840004</td>\n",
       "      <td>37.827501</td>\n",
       "      <td>22.882499</td>\n",
       "      <td>1.369971</td>\n",
       "    </tr>\n",
       "    <tr>\n",
       "      <th>max</th>\n",
       "      <td>2872.870117</td>\n",
       "      <td>184.589996</td>\n",
       "      <td>117.480003</td>\n",
       "      <td>47.259998</td>\n",
       "      <td>1.598798</td>\n",
       "    </tr>\n",
       "  </tbody>\n",
       "</table>\n",
       "</div>"
      ],
      "text/plain": [
       "               SPX          GLD          USO          SLV      EUR/USD\n",
       "count  2290.000000  2290.000000  2290.000000  2290.000000  2290.000000\n",
       "mean   1654.315776   122.732875    31.842221    20.084997     1.283653\n",
       "std     519.111540    23.283346    19.523517     7.092566     0.131547\n",
       "min     676.530029    70.000000     7.960000     8.850000     1.039047\n",
       "25%    1239.874969   109.725000    14.380000    15.570000     1.171313\n",
       "50%    1551.434998   120.580002    33.869999    17.268500     1.303297\n",
       "75%    2073.010070   132.840004    37.827501    22.882499     1.369971\n",
       "max    2872.870117   184.589996   117.480003    47.259998     1.598798"
      ]
     },
     "execution_count": 6,
     "metadata": {},
     "output_type": "execute_result"
    }
   ],
   "source": [
    "#getting the statistical measures of the data\n",
    "gold_data.describe()"
   ]
  },
  {
   "cell_type": "code",
   "execution_count": 7,
   "id": "1887902c",
   "metadata": {},
   "outputs": [],
   "source": [
    "#correlation\n",
    "  #1.positive correlation   2.negative correlation\n",
    "correlation = gold_data.corr()"
   ]
  },
  {
   "cell_type": "code",
   "execution_count": 8,
   "id": "b18463ed",
   "metadata": {},
   "outputs": [
    {
     "data": {
      "text/plain": [
       "<AxesSubplot:>"
      ]
     },
     "execution_count": 8,
     "metadata": {},
     "output_type": "execute_result"
    },
    {
     "data": {
      "image/png": "[encoded data removed]",
      "text/plain": [
       "<Figure size 576x576 with 2 Axes>"
      ]
     },
     "metadata": {
      "needs_background": "light"
     },
     "output_type": "display_data"
    }
   ],
   "source": [
    "#constructing a heatmap to understand the correlation\n",
    "plt.figure(figsize = (8,8))\n",
    "sns.heatmap(correlation,cbar=True,square = True,fmt='.1f',annot=True,annot_kws={'size':8},cmap='Blues')"
   ]
  },
  {
   "cell_type": "code",
   "execution_count": 9,
   "id": "35a34720",
   "metadata": {},
   "outputs": [
    {
     "name": "stdout",
     "output_type": "stream",
     "text": [
      "SPX        0.049345\n",
      "GLD        1.000000\n",
      "USO       -0.186360\n",
      "SLV        0.866632\n",
      "EUR/USD   -0.024375\n",
      "Name: GLD, dtype: float64\n"
     ]
    }
   ],
   "source": [
    "#correlation values of gld\n",
    "print(correlation[\"GLD\"])"
   ]
  },
  {
   "cell_type": "code",
   "execution_count": 10,
   "id": "b233baf3",
   "metadata": {},
   "outputs": [
    {
     "name": "stderr",
     "output_type": "stream",
     "text": [
      "C:\\Users\\91761\\anaconda3\\envs\\tensorflow\\lib\\site-packages\\seaborn\\distributions.py:2619: FutureWarning: `distplot` is a deprecated function and will be removed in a future version. Please adapt your code to use either `displot` (a figure-level function with similar flexibility) or `histplot` (an axes-level function for histograms).\n",
      "  warnings.warn(msg, FutureWarning)\n"
     ]
    },
    {
     "data": {
      "text/plain": [
       "<AxesSubplot:xlabel='GLD', ylabel='Density'>"
      ]
     },
     "execution_count": 10,
     "metadata": {},
     "output_type": "execute_result"
    },
    {
     "data": {
      "image/png": "[encoded data removed]",
      "text/plain": [
       "<Figure size 432x288 with 1 Axes>"
      ]
     },
     "metadata": {
      "needs_background": "light"
     },
     "output_type": "display_data"
    }
   ],
   "source": [
    "#checking the distribution of the GLD\n",
    "sns.distplot(gold_data[\"GLD\"],color='green')"
   ]
  },
  {
   "cell_type": "code",
   "execution_count": 11,
   "id": "6d7b7af6",
   "metadata": {},
   "outputs": [],
   "source": [
    "#splitting the features and target\n",
    "X = gold_data.drop(['Date','GLD'],axis=1)\n",
    "Y = gold_data['GLD']"
   ]
  },
  {
   "cell_type": "code",
   "execution_count": 12,
   "id": "7fc0785e",
   "metadata": {},
   "outputs": [
    {
     "data": {
      "text/html": [
       "<div>\n",
       "<style scoped>\n",
       "    .dataframe tbody tr th:only-of-type {\n",
       "        vertical-align: middle;\n",
       "    }\n",
       "\n",
       "    .dataframe tbody tr th {\n",
       "        vertical-align: top;\n",
       "    }\n",
       "\n",
       "    .dataframe thead th {\n",
       "        text-align: right;\n",
       "    }\n",
       "</style>\n",
       "<table border=\"1\" class=\"dataframe\">\n",
       "  <thead>\n",
       "    <tr style=\"text-align: right;\">\n",
       "      <th></th>\n",
       "      <th>SPX</th>\n",
       "      <th>USO</th>\n",
       "      <th>SLV</th>\n",
       "      <th>EUR/USD</th>\n",
       "    </tr>\n",
       "  </thead>\n",
       "  <tbody>\n",
       "    <tr>\n",
       "      <th>0</th>\n",
       "      <td>1447.160034</td>\n",
       "      <td>78.470001</td>\n",
       "      <td>15.180</td>\n",
       "      <td>1.471692</td>\n",
       "    </tr>\n",
       "    <tr>\n",
       "      <th>1</th>\n",
       "      <td>1447.160034</td>\n",
       "      <td>78.370003</td>\n",
       "      <td>15.285</td>\n",
       "      <td>1.474491</td>\n",
       "    </tr>\n",
       "    <tr>\n",
       "      <th>2</th>\n",
       "      <td>1411.630005</td>\n",
       "      <td>77.309998</td>\n",
       "      <td>15.167</td>\n",
       "      <td>1.475492</td>\n",
       "    </tr>\n",
       "    <tr>\n",
       "      <th>3</th>\n",
       "      <td>1416.180054</td>\n",
       "      <td>75.500000</td>\n",
       "      <td>15.053</td>\n",
       "      <td>1.468299</td>\n",
       "    </tr>\n",
       "    <tr>\n",
       "      <th>4</th>\n",
       "      <td>1390.189941</td>\n",
       "      <td>76.059998</td>\n",
       "      <td>15.590</td>\n",
       "      <td>1.557099</td>\n",
       "    </tr>\n",
       "  </tbody>\n",
       "</table>\n",
       "</div>"
      ],
      "text/plain": [
       "           SPX        USO     SLV   EUR/USD\n",
       "0  1447.160034  78.470001  15.180  1.471692\n",
       "1  1447.160034  78.370003  15.285  1.474491\n",
       "2  1411.630005  77.309998  15.167  1.475492\n",
       "3  1416.180054  75.500000  15.053  1.468299\n",
       "4  1390.189941  76.059998  15.590  1.557099"
      ]
     },
     "execution_count": 12,
     "metadata": {},
     "output_type": "execute_result"
    }
   ],
   "source": [
    "X.head()"
   ]
  },
  {
   "cell_type": "code",
   "execution_count": 13,
   "id": "d4ac98b2",
   "metadata": {},
   "outputs": [
    {
     "data": {
      "text/plain": [
       "0    84.860001\n",
       "1    85.570000\n",
       "2    85.129997\n",
       "3    84.769997\n",
       "4    86.779999\n",
       "Name: GLD, dtype: float64"
      ]
     },
     "execution_count": 13,
     "metadata": {},
     "output_type": "execute_result"
    }
   ],
   "source": [
    "Y.head()"
   ]
  },
  {
   "cell_type": "code",
   "execution_count": 14,
   "id": "53b7a23a",
   "metadata": {},
   "outputs": [],
   "source": [
    "#splitting into training data and test data\n",
    "x_train,x_test,y_train,y_test = train_test_split(X,Y,test_size=0.2,random_state=2)"
   ]
  },
  {
   "cell_type": "code",
   "execution_count": 15,
   "id": "b1cfc07c",
   "metadata": {},
   "outputs": [],
   "source": [
    "#model training \n",
    " #Random Forest Regressor\n",
    "    \n",
    "regressor = RandomForestRegressor(n_estimators=100)"
   ]
  },
  {
   "cell_type": "code",
   "execution_count": 16,
   "id": "f182752c",
   "metadata": {},
   "outputs": [
    {
     "data": {
      "text/plain": [
       "RandomForestRegressor()"
      ]
     },
     "execution_count": 16,
     "metadata": {},
     "output_type": "execute_result"
    }
   ],
   "source": [
    "#training the model\n",
    "regressor.fit(x_train,y_train)"
   ]
  },
  {
   "cell_type": "code",
   "execution_count": 17,
   "id": "eb51f5e4",
   "metadata": {},
   "outputs": [],
   "source": [
    "#model evaluation\n",
    "  #prediction on test data\n",
    "\n",
    "test_data_prediction = regressor.predict(x_test)"
   ]
  },
  {
   "cell_type": "code",
   "execution_count": 18,
   "id": "6ff95931",
   "metadata": {},
   "outputs": [
    {
     "data": {
      "text/plain": [
       "array([168.67509906,  81.79420004, 116.32330052, 127.57640102,\n",
       "       120.70080133, 154.67589825, 150.38459878, 126.17940041,\n",
       "       117.57579892, 126.06530047, 117.09100054, 171.75850082,\n",
       "       142.13939835, 167.31969847, 115.22550034, 117.65280037,\n",
       "       138.92940355, 170.2712008 , 159.66680307, 159.98310015,\n",
       "       155.22360024, 125.22329989, 176.01169932, 157.03960389,\n",
       "       125.11580058,  93.87049957,  77.61089962, 120.56259986,\n",
       "       119.12079948, 167.57079957,  88.23170065, 124.9648999 ,\n",
       "        91.26690056, 117.85729972, 121.19049933, 136.4904003 ,\n",
       "       115.31180154, 115.23860102, 148.46689939, 107.30050089,\n",
       "       104.82610255,  87.11019786, 126.59880046, 117.70150028,\n",
       "       152.61119892, 119.39689997, 108.33370022, 108.13219841,\n",
       "        93.23490071, 127.24209739,  74.97600041, 113.71449939,\n",
       "       121.29850026, 111.23699907, 118.99919876, 120.81219904,\n",
       "       159.43430018, 168.52190127, 147.0408969 ,  85.82569854,\n",
       "        94.28120047,  86.81559877,  90.50119982, 119.00310075,\n",
       "       126.35540071, 127.47149999, 169.88049977, 122.36669913,\n",
       "       117.37769909,  98.69310035, 168.062701  , 143.32849829,\n",
       "       131.94090255, 121.16450205, 121.10279945, 119.55880054,\n",
       "       114.42160167, 118.47030053, 107.13380083, 127.86750075,\n",
       "       114.04339974, 107.60720014, 116.61500057, 119.6539989 ,\n",
       "        89.1699007 ,  88.25719867, 147.28530271, 127.17110035,\n",
       "       113.29210043, 110.43629835, 108.06709886,  77.29259881,\n",
       "       168.80270115, 114.10539908, 121.58289927, 127.87890201,\n",
       "       155.03819842,  91.84849964, 138.14810063, 159.1300042 ,\n",
       "       125.43260053, 125.48950079, 130.6506015 , 114.7439014 ,\n",
       "       119.83109998,  92.03549996, 110.13739874, 167.7438992 ,\n",
       "       157.08789855, 114.25939965, 106.56920122,  79.7202996 ,\n",
       "       113.40780044, 125.78610067, 106.82329943, 119.69360033,\n",
       "       155.89870334, 159.79999857, 120.18650006, 135.13890343,\n",
       "       101.38749986, 117.57009807, 119.23010042, 113.05020102,\n",
       "       102.81079961, 160.40429779,  99.19570045, 147.70909966,\n",
       "       125.84450116, 169.91199955, 125.72889856, 127.37999691,\n",
       "       127.29170146, 113.64109936, 112.89020077, 123.55709928,\n",
       "       102.17139887,  89.18840005, 124.08989972, 102.00589953,\n",
       "       107.33879944, 113.62810067, 117.06920048,  99.28309976,\n",
       "       121.71210052, 162.97889947,  87.30529853, 106.76739971,\n",
       "       117.3240007 , 127.84320128, 124.14610049,  80.83149918,\n",
       "       120.41840061, 157.66909824,  88.08369942, 110.26359937,\n",
       "       118.81099911, 172.75519829, 102.91329944, 105.4375006 ,\n",
       "       122.91300042, 158.14519757,  87.65979845,  92.94060044,\n",
       "       112.5311001 , 177.36979907, 114.29109969, 119.3163004 ,\n",
       "        94.82910101, 125.6649    , 166.30700163, 114.91470088,\n",
       "       116.59370152,  88.30199868, 148.93280119, 120.27429984,\n",
       "        89.56639978, 112.12950009, 117.49470084, 118.87210125,\n",
       "        88.2276992 ,  94.03560007, 117.09080029, 118.46940196,\n",
       "       120.35410026, 126.63229855, 121.90909971, 150.02330031,\n",
       "       165.13510114, 118.5925995 , 120.21770108, 150.47440065,\n",
       "       118.40739933, 172.61139868, 104.7997994 , 104.9222013 ,\n",
       "       149.18900129, 114.25120097, 124.76550121, 147.5096006 ,\n",
       "       119.49930124, 115.29330049, 112.62020019, 113.61130178,\n",
       "       141.26780114, 117.88879789, 102.93490041, 115.90500113,\n",
       "       103.97120191,  98.94790025, 117.65410046,  90.54080037,\n",
       "        91.6149009 , 153.31869876, 102.72629979, 154.71520104,\n",
       "       114.49630169, 138.39940141,  90.17149813, 115.48949956,\n",
       "       114.90479981, 122.89260018, 121.89759992, 165.48450176,\n",
       "        92.91319949, 135.19600127, 121.36769898, 120.85380041,\n",
       "       104.68560009, 143.82720302, 121.51839922, 116.64550043,\n",
       "       113.31250108, 127.11359775, 122.63309944, 125.69869963,\n",
       "       121.23730073,  86.75049887, 132.1676016 , 144.34800217,\n",
       "        92.61989962, 157.47609905, 158.98670233, 126.23259906,\n",
       "       164.39339952, 108.75429937, 110.81820076, 103.67939827,\n",
       "        94.33360048, 128.12990304, 107.13930064, 159.52209998,\n",
       "       121.66390044, 132.03100048, 130.72990128, 160.78680127,\n",
       "        90.10299835, 175.48820179, 127.98960014, 126.69199878,\n",
       "        86.43009914, 124.51999966, 149.82639733,  89.67110005,\n",
       "       107.10569979, 108.97399979,  83.923799  , 136.77030009,\n",
       "       155.01780246, 140.91730355,  73.85010034, 152.32520117,\n",
       "       125.95349911, 126.73740025, 127.51979899, 108.56969961,\n",
       "       156.2427999 , 114.56850122, 116.77880134, 125.30949964,\n",
       "       153.91250129, 121.14419985, 156.44199889,  92.90200064,\n",
       "       125.60070129, 125.81020021,  87.85720038,  92.21649931,\n",
       "       126.30319921, 128.36310358, 113.24940061, 117.48779687,\n",
       "       121.06670029, 127.06749815, 119.6435007 , 136.7679001 ,\n",
       "        93.97349915, 119.8842003 , 113.09380107,  94.1338991 ,\n",
       "       108.94049985,  86.84469931, 108.96569935,  89.62199968,\n",
       "        92.56689989, 131.79740251, 162.22860025,  89.25639996,\n",
       "       119.69750097, 133.37110154, 123.87310028, 128.22320226,\n",
       "       102.01329861,  89.12209841, 131.63530109, 119.86510007,\n",
       "       109.34120036, 167.96710129, 115.15510017,  86.59469879,\n",
       "       118.84610058,  91.19599956, 161.30960073, 116.31250006,\n",
       "       121.58079976, 160.30269702, 120.16119923, 112.78769931,\n",
       "       108.5401986 , 126.62419964,  76.06070044, 102.98569981,\n",
       "       127.9520029 , 121.67999914,  92.5840004 , 131.94790104,\n",
       "       118.05420082, 115.71189995, 154.70900282, 158.85920058,\n",
       "       110.09509956, 154.52299841, 119.2953009 , 160.7797    ,\n",
       "       118.53000078, 156.99519949, 115.05519899, 116.50250036,\n",
       "       148.99519856, 114.90040051, 125.98509883, 166.31819948,\n",
       "       117.6181001 , 125.12009943, 153.27200352, 153.47620265,\n",
       "       132.01950064, 114.87770016, 121.0945018 , 125.0805006 ,\n",
       "        89.69320055, 122.82159959, 154.99710149, 111.78280037,\n",
       "       106.83009968, 162.17060126, 118.31349981, 165.67109967,\n",
       "       133.80720139, 114.81399972, 152.99529894, 168.77199999,\n",
       "       114.84230004, 114.13520119, 158.58209962,  85.15559916,\n",
       "       127.05080065, 127.8810007 , 128.83250054, 124.23610077,\n",
       "       123.80850045,  90.75610052, 153.21730051,  97.2086999 ,\n",
       "       137.71789934,  89.01549912, 107.5122002 , 115.01520063,\n",
       "       112.44110107, 123.87239944,  91.43489847, 125.28500103,\n",
       "       162.31539855, 119.97779892, 165.05090101, 126.67499859,\n",
       "       112.3750002 , 127.54259924,  95.14379939,  90.7621997 ,\n",
       "       103.03179932, 120.92460023,  82.78299976, 126.32120015,\n",
       "       160.66770472, 117.23910082, 118.53069968, 120.12179968,\n",
       "       122.91990001, 120.06830118, 121.45139999, 118.16550083,\n",
       "       107.20430015, 148.7067007 , 126.07329833, 115.61300076,\n",
       "        74.17530014, 127.80660099, 154.4949006 , 122.43099975,\n",
       "       125.61130054,  88.67820031, 102.82469843, 124.57200077,\n",
       "       120.13789994,  73.3021006 , 151.42600051, 121.16020049,\n",
       "       104.69230019,  86.31499758, 115.16509933, 172.235098  ,\n",
       "       119.96570036, 158.94949768, 113.27339939, 120.66990028,\n",
       "       118.83010075,  95.90889987, 118.98269995, 125.86050056,\n",
       "       118.56499973,  96.18500092, 154.12780143, 121.82149983,\n",
       "       147.5783003 , 159.58850326, 114.09550023, 122.50319931,\n",
       "       150.40739813, 126.92790006, 165.65629992, 135.7282001 ,\n",
       "       120.17279902, 167.06619863, 108.44939955, 121.79529862,\n",
       "       139.33940143, 106.42569898])"
      ]
     },
     "execution_count": 18,
     "metadata": {},
     "output_type": "execute_result"
    }
   ],
   "source": [
    "test_data_prediction"
   ]
  },
  {
   "cell_type": "code",
   "execution_count": 19,
   "id": "874204f5",
   "metadata": {},
   "outputs": [],
   "source": [
    "#R squared error\n",
    "error_score = metrics.r2_score(y_test,test_data_prediction)"
   ]
  },
  {
   "cell_type": "code",
   "execution_count": 20,
   "id": "16eb2388",
   "metadata": {},
   "outputs": [
    {
     "name": "stdout",
     "output_type": "stream",
     "text": [
      "R squared error: 0.9892149580054184\n"
     ]
    }
   ],
   "source": [
    "print(\"R squared error:\",error_score)"
   ]
  },
  {
   "cell_type": "code",
   "execution_count": 21,
   "id": "2b936e16",
   "metadata": {},
   "outputs": [],
   "source": [
    "#compare the actual values and predicted values in a plot\n",
    "\n",
    "y_test = list(y_test)"
   ]
  },
  {
   "cell_type": "code",
   "execution_count": 22,
   "id": "1c2c63fd",
   "metadata": {},
   "outputs": [
    {
     "data": {
      "image/png": "[encoded data removed]",
      "text/plain": [
       "<Figure size 432x288 with 1 Axes>"
      ]
     },
     "metadata": {
      "needs_background": "light"
     },
     "output_type": "display_data"
    }
   ],
   "source": [
    "plt.plot(y_test,color='blue',label='Actual Value')\n",
    "plt.plot(test_data_prediction,color='green',label=\"Predicted Value\")\n",
    "plt.title(\"Actual Price vs Predicted Price\")\n",
    "plt.xlabel(\"Number of values\")\n",
    "plt.ylabel(\"GLD Price\")\n",
    "plt.legend()\n",
    "plt.show()"
   ]
  },
  {
   "cell_type": "code",
   "execution_count": 23,
   "id": "cb3473af",
   "metadata": {},
   "outputs": [
    {
     "name": "stdout",
     "output_type": "stream",
     "text": [
      "<class 'pandas.core.frame.DataFrame'>\n",
      "RangeIndex: 2290 entries, 0 to 2289\n",
      "Data columns (total 6 columns):\n",
      " #   Column   Non-Null Count  Dtype  \n",
      "---  ------   --------------  -----  \n",
      " 0   Date     2290 non-null   object \n",
      " 1   SPX      2290 non-null   float64\n",
      " 2   GLD      2290 non-null   float64\n",
      " 3   USO      2290 non-null   float64\n",
      " 4   SLV      2290 non-null   float64\n",
      " 5   EUR/USD  2290 non-null   float64\n",
      "dtypes: float64(5), object(1)\n",
      "memory usage: 107.5+ KB\n"
     ]
    }
   ],
   "source": [
    "gold_data.info()"
   ]
  }
 ],
 "metadata": {
  "kernelspec": {
   "display_name": "Python 3 (ipykernel)",
   "language": "python",
   "name": "python3"
  },
  "language_info": {
   "codemirror_mode": {
    "name": "ipython",
    "version": 3
   },
   "file_extension": ".py",
   "mimetype": "text/x-python",
   "name": "python",
   "nbconvert_exporter": "python",
   "pygments_lexer": "ipython3",
   "version": "3.8.12"
  }
 },
 "nbformat": 4,
 "nbformat_minor": 5
}
